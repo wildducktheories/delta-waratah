{
 "cells": [
  {
   "cell_type": "code",
   "execution_count": null,
   "metadata": {},
   "outputs": [],
   "source": [
    "import pandas as pd\n",
    "from datetime import datetime, timedelta\n",
    "\n",
    "from src import *\n",
    "pd.set_option('display.max_rows', None)"
   ]
  },
  {
   "cell_type": "markdown",
   "metadata": {},
   "source": [
    "# Parameters\n",
    "\n",
    "These parameters configure various things such as the relative location of data files, which date is being analysed\n",
    "and the assumed generation period for an infection."
   ]
  },
  {
   "cell_type": "code",
   "execution_count": null,
   "metadata": {},
   "outputs": [],
   "source": [
    "ALL_VIC_CASES='archive/2021-07-12/all-vic-cases.csv'\n",
    "QUARANTINE='archive/2021-07-16/quarantine.csv'\n",
    "GENERATION_DAYS=5\n",
    "ENABLE_MELBOURNE_ANIMATION=False\n",
    "\n",
    "TODAY=datetime.today().strftime(\"%Y-%m-%d\")\n",
    "LAST_WEEK=add_days(TODAY, -7)\n",
    "\n",
    "RUN_DATE=TODAY\n",
    "#RUN_DATE='2021-07-27'\n",
    "PREV_DAY=add_days(RUN_DATE, -1)\n",
    "NEXT_WEEK=add_days(RUN_DATE, 7)\n",
    "PREV_WEEK=add_days(RUN_DATE, -7)\n",
    "PREV_FORTNIGHT=add_days(RUN_DATE, -14)\n",
    "\n",
    "NSW_6_MONTHS=f\"archive/{RUN_DATE}/last-6-months-nsw.csv\"\n",
    "NSW_14_DAYS=f\"archive/{RUN_DATE}/last-14-days-nsw.csv\""
   ]
  },
  {
   "cell_type": "markdown",
   "metadata": {},
   "source": [
    "# Data Preparation\n",
    "\n",
    "**sweep_downloads()** moves files from the $HOME/Downloads directory into today's archive directory. Thses should first be\n",
    "downloaded from the \"Last 14 days (new)\" and \"Last 6 months (true)\" panels of the NSW Transmission Sources section of [covid19data.com.au](https://www.covid19data.com.au/nsw)"
   ]
  },
  {
   "cell_type": "code",
   "execution_count": null,
   "metadata": {},
   "outputs": [],
   "source": [
    "sweep_downloads(TODAY)"
   ]
  },
  {
   "cell_type": "markdown",
   "metadata": {},
   "source": [
    "Next, we load the data from the files and merge the 14-day data with the 6 month data."
   ]
  },
  {
   "cell_type": "code",
   "execution_count": null,
   "metadata": {},
   "outputs": [],
   "source": [
    "nsw_df = update_df(load_data(NSW_6_MONTHS),load_data(NSW_14_DAYS))\n",
    "vic_df = load_vic_data(ALL_VIC_CASES)\n",
    "quarantine_df = load_quarantine(QUARANTINE)"
   ]
  },
  {
   "cell_type": "markdown",
   "metadata": {},
   "source": [
    "Next, we truncate and refindex the data frames to each outbreak."
   ]
  },
  {
   "cell_type": "code",
   "execution_count": null,
   "metadata": {},
   "outputs": [],
   "source": [
    "avalon = select_outbreak(nsw_df[(nsw_df['date'] >= '2020-12-17') & (nsw_df['date'] <= '2021-01-16')], generation_days=GENERATION_DAYS)\n",
    "bondi = select_outbreak(nsw_df[(nsw_df['date'] >= '2021-06-17')], generation_days=GENERATION_DAYS)\n",
    "vic_outbreak = select_outbreak(vic_df[(vic_df['date'] >= '2020-05-27') & (vic_df['date'] <= '2020-10-29')], generation_days=GENERATION_DAYS)"
   ]
  },
  {
   "cell_type": "markdown",
   "metadata": {},
   "source": [
    "# Development"
   ]
  },
  {
   "cell_type": "code",
   "execution_count": null,
   "metadata": {},
   "outputs": [],
   "source": [
    "df=vic_outbreak\n",
    "offset=30\n",
    "data=[]\n",
    "for x in range(offset+5, len(df)):\n",
    "    slice=df[df.index < x]\n",
    "    gp=derive_growth_params(slice[slice.index>=offset])\n",
    "    prj=select_outbreak(project_ols_growth_rate_min(slice, 365-x, gp[1]))\n",
    "    max_total = prj['total'].max()\n",
    "    max_cumulative= prj['cumulative'].max()\n",
    "    peak=prj[np.abs(prj.total-max_total) < 1e-3].index\n",
    "    if len(peak) > 0:\n",
    "        peak_day = peak.values[0]\n",
    "    else:\n",
    "        peak_day = len(prj)\n",
    "    last=prj[(prj.index > peak_day) & (prj.total < 2)].index\n",
    "    if len(last) > 0:\n",
    "        last_day = last.values[0]\n",
    "    else:\n",
    "        last_day = len(prj)\n",
    "        \n",
    "    decay_rate = (gp[1]-1)*100\n",
    "    \n",
    "    data.append([x-1, max_total, max_cumulative, peak_day, last_day, decay_rate])\n",
    "data=np.array(data)\n",
    "out=pd.DataFrame(\n",
    "    index=np.int32(data[:,0]), \n",
    "    columns=[\n",
    "        'max_total', \n",
    "        'max_cumulative', \n",
    "        'peak_day', \n",
    "        'last_day', \n",
    "        'decay_rate'\n",
    "    ], \n",
    "    data=data[:,1:])\n"
   ]
  },
  {
   "cell_type": "code",
   "execution_count": null,
   "metadata": {},
   "outputs": [],
   "source": [
    "_=out[(out.max_total < 10000) & (out.max_cumulative < 150000)].max_total.plot()"
   ]
  },
  {
   "cell_type": "code",
   "execution_count": null,
   "metadata": {},
   "outputs": [],
   "source": [
    "_=out[(out.max_total < 10000) & (out.max_cumulative < 150000)].max_cumulative.plot()"
   ]
  },
  {
   "cell_type": "code",
   "execution_count": null,
   "metadata": {},
   "outputs": [],
   "source": [
    "_=out[(out.max_total < 10000) & (out.max_cumulative < 150000)].decay_rate.plot()"
   ]
  },
  {
   "cell_type": "code",
   "execution_count": null,
   "metadata": {
    "scrolled": false
   },
   "outputs": [],
   "source": [
    "out[(out.max_total < 10000) & (out.max_cumulative < 150000)]"
   ]
  },
  {
   "cell_type": "code",
   "execution_count": null,
   "metadata": {},
   "outputs": [],
   "source": [
    "out['peak_day'].plot()"
   ]
  },
  {
   "cell_type": "code",
   "execution_count": null,
   "metadata": {},
   "outputs": [],
   "source": [
    "out['last_day'].plot()"
   ]
  },
  {
   "cell_type": "code",
   "execution_count": null,
   "metadata": {},
   "outputs": [],
   "source": [
    "add_days('2021-06-17', 85)"
   ]
  },
  {
   "cell_type": "code",
   "execution_count": null,
   "metadata": {},
   "outputs": [],
   "source": [
    "add_days('2021-06-17', 344)"
   ]
  },
  {
   "cell_type": "code",
   "execution_count": null,
   "metadata": {},
   "outputs": [],
   "source": []
  }
 ],
 "metadata": {
  "kernelspec": {
   "display_name": "Python 3",
   "language": "python",
   "name": "python3"
  },
  "language_info": {
   "codemirror_mode": {
    "name": "ipython",
    "version": 3
   },
   "file_extension": ".py",
   "mimetype": "text/x-python",
   "name": "python",
   "nbconvert_exporter": "python",
   "pygments_lexer": "ipython3",
   "version": "3.9.4"
  }
 },
 "nbformat": 4,
 "nbformat_minor": 4
}
