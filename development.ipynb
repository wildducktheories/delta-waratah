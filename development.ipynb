{
 "cells": [
  {
   "cell_type": "code",
   "execution_count": null,
   "metadata": {},
   "outputs": [],
   "source": [
    "import pandas as pd\n",
    "from datetime import datetime, timedelta\n",
    "from IPython.core.display import display, HTML\n",
    "import os\n",
    "\n",
    "from src import *\n",
    "pd.set_option('display.max_rows', None)"
   ]
  },
  {
   "cell_type": "markdown",
   "metadata": {},
   "source": [
    "# Parameters\n",
    "\n",
    "These parameters configure various things such as the relative location of data files, which date is being analysed\n",
    "and the assumed generation period for an infection."
   ]
  },
  {
   "cell_type": "code",
   "execution_count": null,
   "metadata": {},
   "outputs": [],
   "source": [
    "ALL_VIC_CASES='archive/2021-07-12/all-vic-cases.csv'\n",
    "QUARANTINE='archive/2021-07-16/quarantine.csv'\n",
    "GENERATION_DAYS=5\n",
    "ENABLE_MELBOURNE_ANIMATION=False\n",
    "\n",
    "TODAY=datetime.today().strftime(\"%Y-%m-%d\")\n",
    "YESTERDAY=add_days(TODAY, -1)\n",
    "LAST_WEEK=add_days(TODAY, -7)\n",
    "RUN_DATE=TODAY\n",
    "LOAD_DATE=RUN_DATE\n",
    "\n",
    "PREV_DAY=add_days(RUN_DATE, -1)\n",
    "NEXT_WEEK=add_days(RUN_DATE, 7)\n",
    "PREV_WEEK=add_days(RUN_DATE, -7)\n",
    "PREV_FORTNIGHT=add_days(RUN_DATE, -14)\n",
    "\n",
    "NSW_6_MONTHS=lambda date: f\"archive/{date}/last-6-months-nsw.csv\"\n",
    "NSW_14_DAYS=lambda date: f\"archive/{date}/last-14-days-nsw.csv\"\n",
    "\n",
    "AMEND_TOTAL=None"
   ]
  },
  {
   "cell_type": "markdown",
   "metadata": {},
   "source": [
    "# Data Preparation\n",
    "\n",
    "**sweep_downloads()** moves files from the $HOME/Downloads directory into today's archive directory. Thses should first be\n",
    "downloaded from the \"Last 14 days (new)\" and \"Last 6 months (true)\" panels of the NSW Transmission Sources section of [covid19data.com.au](https://www.covid19data.com.au/nsw)"
   ]
  },
  {
   "cell_type": "code",
   "execution_count": null,
   "metadata": {},
   "outputs": [],
   "source": [
    "sweep_downloads(TODAY)\n",
    "if not os.path.exists(NSW_6_MONTHS(LOAD_DATE)):\n",
    "    LOAD_DATE=YESTERDAY\n",
    "assert os.path.exists(NSW_6_MONTHS(LOAD_DATE))"
   ]
  },
  {
   "cell_type": "code",
   "execution_count": null,
   "metadata": {},
   "outputs": [],
   "source": [
    "nsw_df = update_df(load_data(NSW_6_MONTHS(LOAD_DATE)),load_data(NSW_14_DAYS(LOAD_DATE)))\n",
    "if AMEND_TOTAL:\n",
    "    nsw_df = append_recent_date(nsw_df, RUN_DATE, AMEND_TOTAL)\n",
    "vic_df = load_vic_data(ALL_VIC_CASES)\n",
    "quarantine_df = load_quarantine(QUARANTINE)"
   ]
  },
  {
   "cell_type": "markdown",
   "metadata": {},
   "source": [
    "Next, we truncate and refindex the data frames to each outbreak."
   ]
  },
  {
   "cell_type": "code",
   "execution_count": null,
   "metadata": {},
   "outputs": [],
   "source": [
    "avalon = select_outbreak(nsw_df[(nsw_df['date'] >= '2020-12-17') & (nsw_df['date'] <= '2021-01-16')], generation_days=GENERATION_DAYS)\n",
    "bondi = select_outbreak(nsw_df[(nsw_df['date'] >= '2021-06-17')], generation_days=GENERATION_DAYS)\n",
    "vic_outbreak = select_outbreak(vic_df[(vic_df['date'] >= '2020-05-27') & (vic_df['date'] <= '2020-10-29')], generation_days=GENERATION_DAYS)"
   ]
  },
  {
   "cell_type": "code",
   "execution_count": null,
   "metadata": {},
   "outputs": [],
   "source": []
  }
 ],
 "metadata": {
  "kernelspec": {
   "display_name": "Python 3",
   "language": "python",
   "name": "python3"
  },
  "language_info": {
   "codemirror_mode": {
    "name": "ipython",
    "version": 3
   },
   "file_extension": ".py",
   "mimetype": "text/x-python",
   "name": "python",
   "nbconvert_exporter": "python",
   "pygments_lexer": "ipython3",
   "version": "3.9.4"
  }
 },
 "nbformat": 4,
 "nbformat_minor": 4
}
