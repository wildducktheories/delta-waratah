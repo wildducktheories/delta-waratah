{
 "cells": [
  {
   "cell_type": "code",
   "execution_count": null,
   "metadata": {},
   "outputs": [],
   "source": [
    "import pandas as pd\n",
    "from datetime import datetime, timedelta\n",
    "from IPython.core.display import display, HTML\n",
    "\n",
    "from src import *\n",
    "pd.set_option('display.max_rows', None)"
   ]
  },
  {
   "cell_type": "markdown",
   "metadata": {},
   "source": [
    "# Parameters\n",
    "\n",
    "These parameters configure various things such as the relative location of data files, which date is being analysed\n",
    "and the assumed generation period for an infection."
   ]
  },
  {
   "cell_type": "code",
   "execution_count": null,
   "metadata": {},
   "outputs": [],
   "source": [
    "ALL_VIC_CASES='archive/2021-07-12/all-vic-cases.csv'\n",
    "QUARANTINE='archive/2021-07-16/quarantine.csv'\n",
    "GENERATION_DAYS=5\n",
    "ENABLE_MELBOURNE_ANIMATION=False\n",
    "\n",
    "TODAY=datetime.today().strftime(\"%Y-%m-%d\")\n",
    "LAST_WEEK=add_days(TODAY, -7)\n",
    "\n",
    "RUN_DATE=TODAY\n",
    "#RUN_DATE='2021-07-30'\n",
    "PREV_DAY=add_days(RUN_DATE, -1)\n",
    "NEXT_WEEK=add_days(RUN_DATE, 7)\n",
    "PREV_WEEK=add_days(RUN_DATE, -7)\n",
    "PREV_FORTNIGHT=add_days(RUN_DATE, -14)\n",
    "\n",
    "NSW_6_MONTHS=f\"archive/{RUN_DATE}/last-6-months-nsw.csv\"\n",
    "NSW_14_DAYS=f\"archive/{RUN_DATE}/last-14-days-nsw.csv\""
   ]
  },
  {
   "cell_type": "markdown",
   "metadata": {},
   "source": [
    "# Data Preparation\n",
    "\n",
    "**sweep_downloads()** moves files from the $HOME/Downloads directory into today's archive directory. Thses should first be\n",
    "downloaded from the \"Last 14 days (new)\" and \"Last 6 months (true)\" panels of the NSW Transmission Sources section of [covid19data.com.au](https://www.covid19data.com.au/nsw)"
   ]
  },
  {
   "cell_type": "code",
   "execution_count": null,
   "metadata": {},
   "outputs": [],
   "source": [
    "sweep_downloads(TODAY)"
   ]
  },
  {
   "cell_type": "markdown",
   "metadata": {},
   "source": [
    "Next, we load the data from the files and merge the 14-day data with the 6 month data."
   ]
  },
  {
   "cell_type": "code",
   "execution_count": null,
   "metadata": {},
   "outputs": [],
   "source": [
    "nsw_df = update_df(load_data(NSW_6_MONTHS),load_data(NSW_14_DAYS))\n",
    "#nsw_df = append_recent_date(nsw_df, \"2021-07-31\", 210)\n",
    "vic_df = load_vic_data(ALL_VIC_CASES)\n",
    "quarantine_df = load_quarantine(QUARANTINE)"
   ]
  },
  {
   "cell_type": "markdown",
   "metadata": {},
   "source": [
    "Next, we truncate and refindex the data frames to each outbreak."
   ]
  },
  {
   "cell_type": "code",
   "execution_count": null,
   "metadata": {},
   "outputs": [],
   "source": [
    "avalon = select_outbreak(nsw_df[(nsw_df['date'] >= '2020-12-17') & (nsw_df['date'] <= '2021-01-16')], generation_days=GENERATION_DAYS)\n",
    "bondi = select_outbreak(nsw_df[(nsw_df['date'] >= '2021-06-17')], generation_days=GENERATION_DAYS)\n",
    "vic_outbreak = select_outbreak(vic_df[(vic_df['date'] >= '2020-05-27') & (vic_df['date'] <= '2020-10-29')], generation_days=GENERATION_DAYS)"
   ]
  },
  {
   "cell_type": "markdown",
   "metadata": {},
   "source": [
    "# Growth Model\n",
    "\n",
    "- **date** - the reporting date\n",
    "- **cumulative** - the cumulastive cases to the reporting date. This is usually the day after the cases were \"notified\".\n",
    "- **total** - the number of cases reported on the reporting date\n",
    "- **ols-growth-rate** - growth rate obtained from exponential fit to previous 5-days cumulative amounts expressed as a percentage change of cumulative cases per day\n",
    "- **ols-growth-rate-min** - minimum ols-growth-rate statistic calculated in previous 5 days\n",
    "- **ols-growth-rate-decay** - an expoenential fit to the ols-growth-rate statistic in the previous 5 days expressed as a percentage change of the ols-growth-date per day\n",
    "- **doubling-period** - doubling period (in days) implied by ols-growth-rate\n",
    "- **Reff** - implied Reff, assuming a 5 day generation period"
   ]
  },
  {
   "cell_type": "code",
   "execution_count": null,
   "metadata": {},
   "outputs": [],
   "source": [
    "display(bondi[[\n",
    "    \"date\",\n",
    "    \"cumulative\", \n",
    "    \"total\", \n",
    "    \"ols-growth-rate\", \n",
    "    \"ols-growth-rate-min\", \n",
    "    \"ols-growth-rate-decay\",  \n",
    "    \"doubling-period\",\n",
    "    \"Reff\"\n",
    "]].tail(21))"
   ]
  },
  {
   "cell_type": "markdown",
   "metadata": {},
   "source": [
    "# 7 Day Model\n",
    "\n",
    "This section presents the 7-day oldl 7-day forward projection, e.g. the prediction for the current date and a comparison with what actually happened.\n",
    "\n",
    "- **date** - the reporting date\n",
    "- **cumulative** - the cumulastive cases to the reporting date. This is usually the day after the cases were \"notified\".\n",
    "- **total** - the number of cases reported on the reporting date\n",
    "- **7-day-delta** - 7-day change in cumulative cases\n",
    "- **7-day-projection** - the 7-day old projection of the cumulative total for the reporting date\n",
    "- **7-day-projection-error** - the error in 7-day old projection. +ve is projection overshoot.\n",
    "- **7-day-projection-relative-error** - the relative error in the projected cumulative change vs the actual cumulative change expressed as a percentage"
   ]
  },
  {
   "cell_type": "code",
   "execution_count": null,
   "metadata": {},
   "outputs": [],
   "source": [
    "display(bondi[[\n",
    "    \"date\",\n",
    "    \"cumulative\", \n",
    "    \"total\", \n",
    "    \"7-day-delta\",\n",
    "    \"7-day-projection\",\n",
    "    \"7-day-projection-error\",\n",
    "    \"7-day-projection-relative-error\",\n",
    "]].tail(21))"
   ]
  },
  {
   "cell_type": "markdown",
   "metadata": {},
   "source": [
    "# 1-day Projections (Past and Present)\n",
    "\n",
    "- **date** - the reporting date\n",
    "- **cumulative** - the cumulastive cases to the reporting date. This is usually the day after the cases were \"notified\".\n",
    "- **total** - the number of cases reported on the reporting date\n",
    "- **one-day-projection-cumulative** - the 1-day cumulative projection\n",
    "- **one-day-projection-total** - the 1-day total projection\n",
    "- **one-day-error** - the difference between the 1-day projection and the actual\n",
    "- **one-day-relative** - the ratio of error of the projection from the daily total expressed as a percentage.\n"
   ]
  },
  {
   "cell_type": "code",
   "execution_count": null,
   "metadata": {
    "scrolled": false
   },
   "outputs": [],
   "source": [
    "display(bondi[[\n",
    "    \"date\",\n",
    "    \"cumulative\", \n",
    "    \"total\", \n",
    "    \"one-day-projection-cumulative\", \n",
    "    \"one-day-projection-total\",\n",
    "    \"one-day-error\", \n",
    "    \"one-day-relative-error\", \n",
    "]].tail(21))"
   ]
  },
  {
   "cell_type": "code",
   "execution_count": null,
   "metadata": {
    "scrolled": false
   },
   "outputs": [],
   "source": [
    "output=pd.DataFrame(columns=['cumulative', 'min', 'vic'])\n",
    "output[['min', 'cumulative']] = bondi[['min','cumulative']]\n",
    "output=output.reindex([r for r in range(0, len(bondi)+14)])\n",
    "output['vic'] = vic_outbreak['cumulative']\n",
    "x=11\n",
    "output['vic-offset'] = vic_outbreak['cumulative'].shift(-x)\n",
    "ax=output.plot(figsize=(10,10))\n",
    "ax.set_yscale('log')\n",
    "ax.grid()\n",
    "ax.set_title(f'Cumulative Case Growth Projections ({RUN_DATE})')\n",
    "ax.legend([\n",
    "    'Sydney (2021) - actual', \n",
    "    'Sydney (2021) - model', \n",
    "    'Melbourne (2020)',\n",
    "    f'Melbourne (2020) +{x} days'\n",
    "])\n",
    "ax.figure.savefig(f'archive/{RUN_DATE}/cumulative-partial.png')\n",
    "_=_"
   ]
  },
  {
   "cell_type": "code",
   "execution_count": null,
   "metadata": {},
   "outputs": [],
   "source": [
    "df=vic_outbreak\n",
    "ax=df[['min', 'cumulative']].plot(figsize=(10,10))\n",
    "#ax.set_yscale('log')\n",
    "ax.grid()\n",
    "ax.plot(bondi['cumulative'])\n",
    "ax.plot(bondi['min'])\n",
    "ax.legend(['model (Melbourne 2020) ', 'cumulative (Melbourne 2020)','cumulative (Sydney 2021)',  'model (Sydney 2021) '])\n",
    "ax.set_title(\"7 Day Projection vs Actual (Melbourne 2020, Sydney 2021)\")\n",
    "ax.figure.savefig(f'archive/{RUN_DATE}/cumulative-full.png')\n",
    "_=_"
   ]
  },
  {
   "cell_type": "code",
   "execution_count": null,
   "metadata": {},
   "outputs": [],
   "source": [
    "VIC_EXTRA_DAYS=0\n",
    "\n",
    "vic_growth_params=derive_growth_params(vic_outbreak[(vic_outbreak.index >= 70) & (vic_outbreak.index < 120)], generation_days=GENERATION_DAYS)\n",
    "bondi_growth_params=derive_growth_params(bondi.tail(8), generation_days=GENERATION_DAYS)\n",
    "N=1\n",
    "bondi_growth_params_3=derive_growth_params(bondi.tail(8+N).head(8), generation_days=GENERATION_DAYS)\n",
    "gp=derive_growth_params(bondi[(bondi.index>15)])\n",
    "bondi_projection_1=select_outbreak(project_ols_growth_rate_min(bondi, 84, vic_growth_params[1]))\n",
    "bondi_projection_2=select_outbreak(project_ols_growth_rate_min(bondi, 110, gp[1]))\n",
    "bondi_projection_3=select_outbreak(project_ols_growth_rate_min(bondi.head(len(bondi)-N), 84+N, gp[1]))\n",
    "\n",
    "\n",
    "vic_partial=vic_outbreak.head(len(bondi)+VIC_EXTRA_DAYS)\n",
    "vic_partial_growth_params=derive_growth_params(vic_partial)\n",
    "vic_projection=select_outbreak(project_ols_growth_rate_min(vic_partial, len(vic_outbreak)-len(bondi)-VIC_EXTRA_DAYS, vic_partial_growth_params[1]), generation_days=GENERATION_DAYS)"
   ]
  },
  {
   "cell_type": "code",
   "execution_count": null,
   "metadata": {
    "scrolled": false
   },
   "outputs": [],
   "source": [
    "gp=GrowthPlot(RUN_DATE)\n",
    "gp.add(bondi, offset=0, legend=\"Sydney 2021\")\n",
    "#gp.add(avalon, offset=0, legend=\"Avalon 2020\")\n",
    "gp.add(vic_outbreak, offset=0, legend=\"Melbourne 2020\")\n",
    "gp.ax.plot(bondi['ols-growth-rate-min'],color=\"C3\")\n",
    "gp.ax.plot(vic_outbreak['ols-growth-rate-min'], color=\"C4\")\n",
    "gp.ax.plot(bondi_projection_1['ols-growth-rate-min'], linestyle='dotted', color='C4')\n",
    "gp.ax.plot(bondi_projection_2['ols-growth-rate-min'], linestyle='dashed', color='C3')\n",
    "gp.ax.plot(bondi_projection_3['ols-growth-rate-min'], linestyle='dotted', color='C5')\n",
    "gp.ax.set_yscale('log')\n",
    "gp.legend = gp.legend+[\n",
    "    'Sydney 2021 (retrospective model)', \n",
    "    'Melbourne 2020 (retrospective model)', \n",
    "    'Sydney 2021 (projection - Melbourne 2020 decay)',\n",
    "    f'Sydney 2021 (projection - Sydney 2021 decay ({RUN_DATE})',\n",
    "    f'Sydney 2021 (projection - Sydney 2021 decay ({PREV_DAY})'\n",
    "]\n",
    "gp.ax.legend(gp.legend)\n",
    "gp.ax.figure.savefig(f'archive/{RUN_DATE}/cumulative-growth.png')\n",
    "\n",
    "#gp.add(vic_outbreak.shift(-11), offset=0, legend=\"Melbourne 2020 (shifted)\")\n",
    "_=_"
   ]
  },
  {
   "cell_type": "code",
   "execution_count": null,
   "metadata": {},
   "outputs": [],
   "source": [
    "output=pd.DataFrame()\n",
    "output['vic'] = modeling_errors(vic_outbreak)\n",
    "output[\"vic\"]\n",
    "output[\"bondi\"] = modeling_errors(bondi)\n",
    "#output[\"avalon\"] = modeling_errors(avalon)\n",
    "                                    \n",
    "ax=output.loc[output.index >= 15, ['bondi', 'vic', ]].plot(figsize=(10,10))\n",
    "ax.grid()                         \n",
    "ax.set_title(\"Modelling Error % vs Day Of Outbreak\")\n",
    "ax.set_xlabel(\"Day Of Outbreak\")\n",
    "ax.set_ylabel(\"% overshoot of projection vs actual\")\n",
    "ax.legend(['Sydney 2011', 'Melbourne 2020'])\n",
    "ax.figure.savefig(f'archive/{RUN_DATE}/modellng-error.png')\n",
    "_=_"
   ]
  },
  {
   "cell_type": "code",
   "execution_count": null,
   "metadata": {
    "scrolled": false
   },
   "outputs": [],
   "source": [
    "plot_vic=True\n",
    "\n",
    "pp = PhasePlot(f\"New Cases vs Error Modeling % - Sydney 2021 vs Melbourne 2020 - ({RUN_DATE})\")\n",
    "\n",
    "bondi_idx=pp.add(bondi, offset=20, legend=\"Sydney 2021\", color=\"C0\") # 20\n",
    "if plot_vic:\n",
    "    vic_idx=pp.add(vic_outbreak, offset=15, legend=\"Melbourne 2020\", color=\"C1\") # 15\n",
    "\n",
    "pp.add_horizon(horizon(bondi, 7), legend=f\"7-Day Projection for {NEXT_WEEK}\", color=\"blue\")\n",
    "pp.add_horizon(horizon(bondi.head(len(bondi)-7), 7), legend=f\"7-Day Projection for {RUN_DATE}\", color=\"red\")\n",
    "# for i in range(0,7):\n",
    "#     pp.add_horizon(horizon(bondi.head(len(bondi)-7-i),7), legend=f\"today - as projected {7+i} days ago\", color=f\"C{i}\")\n",
    "\n",
    "\n",
    "if plot_vic:\n",
    "    first_case=pp.frames[vic_idx].head(1)['date']\n",
    "    last_case=pp.frames[vic_idx].tail(1)[['date', 'total', '7-day-projection-relative-error']]\n",
    "\n",
    "    pp.add_label(vic_idx, \"2020-08-04\", \"peak daily new cases\")\n",
    "    pp.add_label(vic_idx, \"2020-07-16\", \"last model undershoot, prior to recovery\")\n",
    "    pp.add_label(vic_idx, \"2020-08-02\", \"stage 4 restrictions announced\")\n",
    "    pp.add_label(vic_idx, \"2020-07-15\", \"similar state (VIC)\")\n",
    "    pp.add_label(vic_idx, \"2020-07-09\", \"stage 3 restrictions announced\")\n",
    "    pp.add_label(vic_idx, last_case.values[0][0], f\"last day plotted (VIC)\")\n",
    "    pp.add_label(vic_idx, first_case.values[0], f\"first day plotted (VIC)\")\n",
    "\n",
    "    # pp.add_label(vic_idx, \"2020-08-09\", \"1 week after stage 4 restrictions announced\")\n",
    "    # pp.add_label(vic_idx, \"2020-08-16\", \"2 weeks after stage 4 restrictions announced\")\n",
    "    # pp.add_label(vic_idx, \"2020-08-23\", \"3 weeks after stage 4 restrictions announced\")\n",
    "    # pp.add_label(vic_idx, \"2020-08-30\", \"4 weeks after stage 4 restrictions announced\")\n",
    "    # pp.add_label(vic_idx, \"2020-09-06\", \"5 weeks after stage 4 restrictions announced\")\n",
    "    # pp.add_label(vic_idx, \"2020-09-13\", \"6 weeks after stage 4 restrictions announced\")\n",
    "    # pp.add_label(vic_idx, \"2020-09-20\", \"7 weeks after stage 4 restrictions announced\")\n",
    "    # pp.add_label(vic_idx, \"2020-09-27\", \"8 weeks after stage 4 restrictions announced\")\n",
    "    # pp.add_label(vic_idx, \"2020-10-03\", \"9 weeks after stage 4 restrictions announced\")\n",
    "    # pp.add_label(vic_idx, \"2020-10-10\", \"10 weeks after stage 4 restrictions announced\")\n",
    "    # pp.add_label(vic_idx, \"2020-10-17\", \"11 weeks after stage 4 restrictions announced\")\n",
    "    # pp.add_label(vic_idx, \"2020-10-24\", \"12 weeks after stage 4 restrictions announced\")\n",
    "\n",
    "first_case_nsw=pp.frames[bondi_idx].head(1)['date']\n",
    "pp.add_label(bondi_idx, RUN_DATE, \"current state (NSW)\")\n",
    "pp.add_label(bondi_idx, PREV_WEEK, \"a week ago (NSW)\")\n",
    "pp.add_label(bondi_idx, PREV_FORTNIGHT, \"two weeks ago (NSW)\")\n",
    "pp.add_label(bondi_idx, first_case_nsw.values[0], f\"first day plotted (NSW)\")    \n",
    "    \n",
    "pp.ax.figure.savefig(f'archive/{RUN_DATE}/hedgehog.png')\n",
    "_=_"
   ]
  },
  {
   "cell_type": "code",
   "execution_count": null,
   "metadata": {},
   "outputs": [],
   "source": [
    "gp=derive_growth_params(bondi[(bondi.index>15)])\n",
    "ax=bondi[\"ols-growth-rate\"].plot(figsize=(10,10))\n",
    "ax.plot((gp[1]**bondi.index)*gp[0])\n",
    "ax.set_title(f\"Daily Cumulative Growth Rate % (Sydney 2021) ({RUN_DATE})\")\n",
    "ax.set_xlabel(\"Day Of Outbreak\")\n",
    "ax.set_ylabel(\"Daily Cumulative Growth Rate %\")\n",
    "#ax.set_yscale(\"log\")\n",
    "ax.legend([\"observed\", f\"trend: y={round(gp[0],3)} * ({round(gp[1],3)}^x)\"])\n",
    "ax.grid()\n",
    "ax.figure.savefig(f'archive/{RUN_DATE}/growth-rate-trend.png')\n",
    "gp[1]"
   ]
  },
  {
   "cell_type": "code",
   "execution_count": null,
   "metadata": {},
   "outputs": [],
   "source": [
    "df=select_outbreak(project_ols_growth_rate_min(bondi, 200-len(bondi), gp[1]))\n",
    "ax=plot_derivatives(df, len(bondi), \"Sydney 2021\")\n",
    "ax.figure.savefig(f'archive/{RUN_DATE}/derivatives-sydney-partial.png')"
   ]
  },
  {
   "cell_type": "code",
   "execution_count": null,
   "metadata": {},
   "outputs": [],
   "source": [
    "df=vic_partial\n",
    "gp=derive_growth_params(df[df.index>30])\n",
    "ax=df[\"ols-growth-rate\"].plot(figsize=(10,10))\n",
    "ax.plot((gp[1]**bondi.index)*gp[0])\n",
    "ax.set_title(f\"Daily Cumulative Growth Rate % (Melbourne 2021) ({RUN_DATE})\")\n",
    "ax.set_xlabel(\"Day Of Outbreak\")\n",
    "ax.set_ylabel(\"Daily Cumulative Growth Rate %\")\n",
    "ax.legend([\"observed\", f\"trend: y={round(gp[0],3)} * ({round(gp[1],3)}^x)\"])\n",
    "#ax.figure.savefig(f'archive/{RUN_DATE}/growth-rate-trend.png')"
   ]
  },
  {
   "cell_type": "code",
   "execution_count": null,
   "metadata": {},
   "outputs": [],
   "source": [
    "df=select_outbreak(project_ols_growth_rate_min(vic_partial, 110, gp[1]))\n",
    "ax=plot_derivatives(df, len(vic_partial), dataset=\"Melbourne 2020\")\n",
    "#ax.figure.savefig(f'archive/{RUN_DATE}/derivatives-melbourne-partial.png')"
   ]
  },
  {
   "cell_type": "code",
   "execution_count": null,
   "metadata": {},
   "outputs": [],
   "source": [
    "ax=plot_derivatives(vic_outbreak, None, dataset=\"Melbourne 2020\")\n",
    "ax.figure.savefig(f'archive/{RUN_DATE}/derivatives-melbourne-full.png')"
   ]
  },
  {
   "cell_type": "markdown",
   "metadata": {},
   "source": [
    "# Hedgehog Animation"
   ]
  },
  {
   "cell_type": "code",
   "execution_count": null,
   "metadata": {
    "scrolled": true
   },
   "outputs": [],
   "source": [
    "%%capture phaseplot\n",
    "animate_phaseplot(\n",
    "    df=bondi, \n",
    "    outbreak=\"Sydney 2021\", \n",
    "    fn=f'archive/{RUN_DATE}/animated-hedgehog-sydney2021.gif', \n",
    "    offset=15\n",
    ")\n",
    "if ENABLE_MELBOURNE_ANIMATION:\n",
    "    animate_phaseplot(\n",
    "        df=vic_outbreak, \n",
    "        offset=20, \n",
    "        outbreak=\"Melbourne 2020\", \n",
    "        fn=f'archive/{RUN_DATE}/animated-hedgehog-melbourne2020.gif'\n",
    "    )"
   ]
  },
  {
   "cell_type": "code",
   "execution_count": null,
   "metadata": {},
   "outputs": [],
   "source": [
    "display(HTML(f\"<img src='animated-hedgehog-sydney2021.gif'>\"))"
   ]
  },
  {
   "cell_type": "code",
   "execution_count": null,
   "metadata": {},
   "outputs": [],
   "source": [
    "display(HTML(f\"<img src='../latest/animated-hedgehog-melbourne2020.gif'>\"))"
   ]
  },
  {
   "cell_type": "markdown",
   "metadata": {},
   "source": [
    "# Derivatives Animation"
   ]
  },
  {
   "cell_type": "code",
   "execution_count": null,
   "metadata": {
    "scrolled": true
   },
   "outputs": [],
   "source": [
    "%%capture derivatives\n",
    "animate_derivatives(\n",
    "    bondi, \n",
    "    \"Sydney 2021\", \n",
    "    f'archive/{RUN_DATE}/animated-derivatives-sydney.gif', \n",
    "    derive_growth_params(bondi[(bondi.index>15)])[1]\n",
    ")\n",
    "\n",
    "if ENABLE_MELBOURNE_ANIMATION:\n",
    "    animate_derivatives(\n",
    "        vic_outbreak, \n",
    "        \"Melbourne 2020\", \n",
    "        f'archive/{RUN_DATE}/animated-derivatives-melbourne.gif', \n",
    "        derive_growth_params(vic_outbreak[(vic_outbreak.index>30)])[1]\n",
    "    )\n",
    "                    \n",
    "                    "
   ]
  },
  {
   "cell_type": "code",
   "execution_count": null,
   "metadata": {},
   "outputs": [],
   "source": [
    "display(HTML(f\"<img src='animated-derivatives-sydney.gif'>\"))"
   ]
  },
  {
   "cell_type": "code",
   "execution_count": null,
   "metadata": {},
   "outputs": [],
   "source": [
    "display(HTML(f\"<img src='../latest/animated-derivatives-melbourne.gif'>\"))"
   ]
  }
 ],
 "metadata": {
  "kernelspec": {
   "display_name": "Python 3",
   "language": "python",
   "name": "python3"
  },
  "language_info": {
   "codemirror_mode": {
    "name": "ipython",
    "version": 3
   },
   "file_extension": ".py",
   "mimetype": "text/x-python",
   "name": "python",
   "nbconvert_exporter": "python",
   "pygments_lexer": "ipython3",
   "version": "3.9.4"
  }
 },
 "nbformat": 4,
 "nbformat_minor": 4
}
